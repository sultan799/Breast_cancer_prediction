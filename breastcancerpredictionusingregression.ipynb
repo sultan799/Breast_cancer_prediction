{
  "nbformat": 4,
  "nbformat_minor": 0,
  "metadata": {
    "colab": {
      "name": "breastcancerpredictionusingregression.ipynb",
      "provenance": [],
      "collapsed_sections": [],
      "authorship_tag": "ABX9TyPYVLz/DZV2eOsP1GaDWoTs",
      "include_colab_link": true
    },
    "kernelspec": {
      "name": "python3",
      "display_name": "Python 3"
    }
  },
  "cells": [
    {
      "cell_type": "markdown",
      "metadata": {
        "id": "view-in-github",
        "colab_type": "text"
      },
      "source": [
        "<a href=\"https://colab.research.google.com/github/sultan799/Breast_cancer_prediction/blob/main/breastcancerpredictionusingregression.ipynb\" target=\"_parent\"><img src=\"https://colab.research.google.com/assets/colab-badge.svg\" alt=\"Open In Colab\"/></a>"
      ]
    },
    {
      "cell_type": "markdown",
      "metadata": {
        "id": "AmnAybFrPE7z"
      },
      "source": [
        "Breast cancer detection with logistic regression"
      ]
    },
    {
      "cell_type": "markdown",
      "metadata": {
        "id": "j7WRhEtEQ-nd"
      },
      "source": [
        "Data Collection"
      ]
    },
    {
      "cell_type": "code",
      "metadata": {
        "id": "ATOsfjQ0OeRT"
      },
      "source": [
        "#import libraries\r\n",
        "import numpy as np\r\n",
        "import pandas as pd\r\n",
        "import sklearn.datasets\r\n",
        "import matplotlib.pyplot as plt\r\n"
      ],
      "execution_count": 1,
      "outputs": []
    },
    {
      "cell_type": "code",
      "metadata": {
        "id": "PM8QtH1vQBeU"
      },
      "source": [
        "#collecting dataset\r\n",
        "breast_cancer_cases=sklearn.datasets.load_breast_cancer()\r\n",
        "print(breast_cancer_cases)"
      ],
      "execution_count": null,
      "outputs": []
    },
    {
      "cell_type": "markdown",
      "metadata": {
        "id": "jhw_sVW5RDLI"
      },
      "source": [
        "Data preprocessing"
      ]
    },
    {
      "cell_type": "code",
      "metadata": {
        "id": "NfvcvV6lQvMN"
      },
      "source": [
        "X=breast_cancer_cases.data#storing input features columns in X\r\n",
        "Y=breast_cancer_cases.target#stroring label/output column in Y\r\n",
        "print(type(X))\r\n",
        "print(type(Y))\r\n",
        "print(X.shape)\r\n",
        "print(Y.shape)"
      ],
      "execution_count": null,
      "outputs": []
    },
    {
      "cell_type": "code",
      "metadata": {
        "id": "I55TJf5vR7DQ"
      },
      "source": [
        "#import data to pandas dataframe \r\n",
        "data=pd.DataFrame(breast_cancer_cases.data,columns=breast_cancer_cases.feature_names)\r\n",
        "data['result']=breast_cancer_cases.target\r\n",
        "data.head()\r\n",
        "data.describe()\r\n",
        "print(data['result'].value_counts())"
      ],
      "execution_count": null,
      "outputs": []
    },
    {
      "cell_type": "code",
      "metadata": {
        "id": "WylGPt0RU608"
      },
      "source": [
        "data.groupby('result').mean()"
      ],
      "execution_count": null,
      "outputs": []
    },
    {
      "cell_type": "markdown",
      "metadata": {
        "id": "aUd29dNmXqCY"
      },
      "source": [
        "train_test_split_data"
      ]
    },
    {
      "cell_type": "code",
      "metadata": {
        "id": "AMZFAw0qXk-f"
      },
      "source": [
        "from sklearn.model_selection import train_test_split\r\n",
        "X_train,X_test,Y_train,Y_test=train_test_split(X,Y,test_size=0.2)\r\n",
        "X.shape,Y.shape\r\n",
        "print(Y.mean(),Y_train.mean(),Y_test.mean())\r\n",
        "X_train,X_test,Y_train,Y_test=train_test_split(X,Y,test_size=0.2,stratify=Y,random_state=1)\r\n",
        "print(Y.mean(),Y_train.mean(),Y_test.mean())\r\n",
        "print(X.mean(),X_train.mean(),X_test.mean())\r\n"
      ],
      "execution_count": null,
      "outputs": []
    },
    {
      "cell_type": "markdown",
      "metadata": {
        "id": "aPdwdUgR8Ds6"
      },
      "source": [
        "model buliding"
      ]
    },
    {
      "cell_type": "code",
      "metadata": {
        "id": "YJDE0NoE8GsT"
      },
      "source": [
        "from sklearn.linear_model import LogisticRegression\r\n",
        "model=LogisticRegression()\r\n",
        "model.fit(X_train,Y_train)"
      ],
      "execution_count": null,
      "outputs": []
    },
    {
      "cell_type": "markdown",
      "metadata": {
        "id": "jX3T0dMp8rFI"
      },
      "source": [
        "Model Evaluation"
      ]
    },
    {
      "cell_type": "code",
      "metadata": {
        "id": "ieRlhpsS8uZl"
      },
      "source": [
        "from sklearn.metrics import accuracy_score\r\n",
        "predict=model.predict(X_train)\r\n",
        "accuracy_on_train_data=accuracy_score(Y_train,predict)\r\n",
        "print('accuracy_on_train_data is ',accuracy_on_train_data)"
      ],
      "execution_count": null,
      "outputs": []
    },
    {
      "cell_type": "code",
      "metadata": {
        "id": "VDIYELrW9Wqr"
      },
      "source": [
        "prediction_on_test_data=model.predict(X_test)\r\n",
        "accuracy_on_test_data=accuracy_score(Y_test,prediction_on_test_data)\r\n",
        "print('accuracy_on_test_data is ',accuracy_on_test_data)"
      ],
      "execution_count": null,
      "outputs": []
    },
    {
      "cell_type": "markdown",
      "metadata": {
        "id": "O_8GT78793hG"
      },
      "source": [
        "Prediction OR Detecting whether a patient has banign or malignant"
      ]
    },
    {
      "cell_type": "code",
      "metadata": {
        "id": "_dvb3lHM9-MH"
      },
      "source": [
        "input_data=(13.54,14.36,87.46,566.3,0.09779,0.08129,0.06664,0.04781,0.1885,0.05766,0.2699,0.7886,2.058,23.56,0.008462,0.0146,0.02387,0.01315,0.0198,0.0023,15.11,19.26,99.7,711.2,0.144,0.1773,0.239,0.1288,0.2977,0.07259)\r\n",
        "inputdata_to_numpy=np.asarray(input_data)\r\n",
        "print(inputdata_to_numpy)\r\n",
        "#reshape the input as we are detecting the cancer for single instance\r\n",
        "inputdata_reshaped=inputdata_to_numpy.reshape(1,-1)\r\n",
        "print(inputdata_reshaped)\r\n",
        "print(type(inputdata_reshaped))\r\n",
        "#prediction\r\n",
        "predictiononunknowndata=model.predict(inputdata_reshaped)\r\n",
        "if(predictiononunknowndata==1):\r\n",
        "  print(\"it is Benign\")\r\n",
        "else:\r\n",
        "  print(\"it is Malignant\")"
      ],
      "execution_count": null,
      "outputs": []
    },
    {
      "cell_type": "code",
      "metadata": {
        "id": "3gpLMXBcB9C6"
      },
      "source": [
        "#plotting on graph\r\n",
        "plt.plot(X_test,prediction_on_test_data)\r\n",
        "plt.xlabel('features')\r\n",
        "plt.ylabel('result')\r\n",
        "plt.show()"
      ],
      "execution_count": null,
      "outputs": []
    }
  ]
}